{
 "cells": [
  {
   "cell_type": "markdown",
   "metadata": {},
   "source": [
    "### Objectif du TP\n",
    "> Le but du tp est de mettre en pratique un algorithme de classification automatique du type CAH. Ici, il s'agira de regrouper les éléments du dataset en groupes, appelés clusters, afin de faire ressortir les patterns cachés dans le jeu de données en regroupant les éléments qui se ressemblent.\n",
    "\n",
    "### Description du dataset\n",
    "> ```fromage2.txt``` : Ensemble de différents fromages classifiés par leurs propriétés nutritives. Il s'agira donc d'identifier des groupes de fromages homogènes, ayant des caractéristiques similaires\n",
    "\n",
    "### Étapes clés de l'analyse\n",
    "- 1 : Chargement et description des données\n",
    "- 2 : Centrage et réduction des données\n",
    "- 3 : Génération de la matrice des liens\n",
    "- 4 : Matérialisation des groupes\n",
    "\n",
    "### Intérêt d'utiliser jupyter & Anaconda\n",
    ">  Jupyter permet d'éditer des visualisations, de les partager et de permettre des modifications interactives du code et de l'ensemble des données partagés\n",
    "\n",
    "#### BONUS RÉALISÉ - ```KMeans_clusters_fromage2_FOUNOU_Samir.ipynb```"
   ]
  },
  {
   "cell_type": "markdown",
   "metadata": {},
   "source": [
    "## 1 - Chargement et description des données"
   ]
  },
  {
   "cell_type": "code",
   "execution_count": 2,
   "metadata": {},
   "outputs": [],
   "source": [
    "#modification du dossier par défaut\n",
    "import os\n",
    "os.chdir(\"/home/ubuntu/Documents/DATAMINING/\")"
   ]
  },
  {
   "cell_type": "markdown",
   "metadata": {},
   "source": [
    "> Ici on importe la librairie ```os``` qui permet d'effectuer des opérations courantes liées au système d'exploitation. Ainsi on pourra pointer sur le dossier voulu."
   ]
  },
  {
   "cell_type": "code",
   "execution_count": 3,
   "metadata": {},
   "outputs": [],
   "source": [
    "#importation des données\n",
    "import pandas\n",
    "fromage = pandas.read_table(\"fromage2.txt\",sep=\"\\t\",header=0,index_col=0)"
   ]
  },
  {
   "cell_type": "code",
   "execution_count": 4,
   "metadata": {},
   "outputs": [
    {
     "name": "stdout",
     "output_type": "stream",
     "text": [
      "(29, 9)\n"
     ]
    }
   ],
   "source": [
    "#dimension des données\n",
    "print(fromage.shape)"
   ]
  },
  {
   "cell_type": "code",
   "execution_count": 5,
   "metadata": {},
   "outputs": [
    {
     "name": "stdout",
     "output_type": "stream",
     "text": [
      "             calories  sodium  calcium  lipides  retinol  folates  proteines  \\\n",
      "Fromages                                                                       \n",
      "CarredelEst       314   353.5     72.6     26.3     51.6     30.3       21.0   \n",
      "Babybel           314   238.0    209.8     25.1     63.7      6.4       22.6   \n",
      "Beaufort          401   112.0    259.4     33.3     54.9      1.2       26.6   \n",
      "Bleu              342   336.0    211.1     28.9     37.1     27.5       20.2   \n",
      "Camembert         264   314.0    215.9     19.5    103.0     36.4       23.4   \n",
      "Cantal            367   256.0    264.0     28.8     48.8      5.7       23.0   \n",
      "\n",
      "             cholesterol  magnesium  \n",
      "Fromages                             \n",
      "CarredelEst           70         20  \n",
      "Babybel               70         27  \n",
      "Beaufort             120         41  \n",
      "Bleu                  90         27  \n",
      "Camembert             60         20  \n",
      "Cantal                90         30  \n"
     ]
    }
   ],
   "source": [
    "#6 premières lignes des données\n",
    "print(fromage.iloc[0:6,:])"
   ]
  },
  {
   "cell_type": "code",
   "execution_count": 6,
   "metadata": {},
   "outputs": [
    {
     "name": "stdout",
     "output_type": "stream",
     "text": [
      "         calories      sodium     calcium    lipides     retinol    folates  \\\n",
      "count   29.000000   29.000000   29.000000  29.000000   29.000000  29.000000   \n",
      "mean   300.034483  210.086207  185.734483  24.158621   67.562069  13.010345   \n",
      "std     91.914356  108.678923   72.528882   8.129642   24.163098  11.723339   \n",
      "min     70.000000   22.000000   72.600000   3.400000   37.100000   1.200000   \n",
      "25%    292.000000  140.000000  132.900000  23.400000   51.600000   4.900000   \n",
      "50%    321.000000  223.000000  202.300000  26.300000   62.300000   6.400000   \n",
      "75%    355.000000  276.000000  220.500000  29.100000   76.400000  21.100000   \n",
      "max    406.000000  432.000000  334.600000  33.300000  150.500000  36.400000   \n",
      "\n",
      "       proteines  cholesterol  magnesium  \n",
      "count  29.000000    29.000000  29.000000  \n",
      "mean   20.168966    74.586207  26.965517  \n",
      "std     6.959788    28.245755  11.318388  \n",
      "min     4.100000    10.000000  10.000000  \n",
      "25%    17.800000    70.000000  20.000000  \n",
      "50%    21.000000    80.000000  26.000000  \n",
      "75%    23.400000    90.000000  30.000000  \n",
      "max    35.700000   120.000000  51.000000  \n"
     ]
    }
   ],
   "source": [
    "#statistiques descriptives\n",
    "print(fromage.describe())"
   ]
  },
  {
   "cell_type": "markdown",
   "metadata": {},
   "source": [
    "## 2 - Centrage et réduction des données"
   ]
  },
  {
   "cell_type": "code",
   "execution_count": 7,
   "metadata": {},
   "outputs": [],
   "source": [
    "import pandas"
   ]
  },
  {
   "cell_type": "code",
   "execution_count": 8,
   "metadata": {},
   "outputs": [],
   "source": [
    "#centrage réduction des données\n",
    "from sklearn import preprocessing\n",
    "fromage_cr = preprocessing.scale(fromage)"
   ]
  },
  {
   "cell_type": "markdown",
   "metadata": {},
   "source": [
    "> Ici on importe la librairie ```preprocessing``` qui permet d'éffectuer le prétraitement des données qui est la première étape d'apprentissage automatique au cours de laquelle les données brutes sont transformées  en un format utilisable pour mettre en oeuvre des modèles d'apprentissage automatique précis.\n",
    "Ensjuite on fait appel à la méthode ```scale()``` qui permet de placer les données sur une seule échelle."
   ]
  },
  {
   "cell_type": "markdown",
   "metadata": {},
   "source": [
    "## 3 - Génération de la matrice des liens"
   ]
  },
  {
   "cell_type": "code",
   "execution_count": 9,
   "metadata": {},
   "outputs": [],
   "source": [
    "#librairies pour la CAH\n",
    "import matplotlib.pyplot as plt\n",
    "from scipy.cluster.hierarchy import dendrogram, linkage, fcluster"
   ]
  },
  {
   "cell_type": "code",
   "execution_count": 10,
   "metadata": {},
   "outputs": [],
   "source": [
    "#générer la matrice des liens\n",
    "Z = linkage(fromage_cr,method='ward',metric='euclidean')"
   ]
  },
  {
   "cell_type": "markdown",
   "metadata": {},
   "source": [
    "> Ici on utilise la méthode ```linkage()``` qui permet d'effectuer un clustering hiérarchique.\n",
    "\n",
    "<u><em>Paramètres de la méthode</em></u>\n",
    "- <strong>method='ward'</strong> &nbsp;&nbsp;&nbsp;&nbsp;&nbsp;&nbsp;: permet de calculer la distance entre les clusters. La méthode 'ward' utilise l'algorithme de minimisation de la variance de Ward\n",
    "- <strong>metric='euclidean'</strong> : permet de définir la métrique qui sera utilisée. Ici c'est la métrique euclidienne par paire qui est utilisée"
   ]
  },
  {
   "cell_type": "code",
   "execution_count": 11,
   "metadata": {},
   "outputs": [
    {
     "data": {
      "image/png": "[encoded data removed]",
      "text/plain": [
       "<Figure size 432x288 with 1 Axes>"
      ]
     },
     "metadata": {
      "needs_background": "light"
     },
     "output_type": "display_data"
    }
   ],
   "source": [
    "plt.title(\"CAH\")\n",
    "dendrogram(Z,labels=fromage.index,orientation='left',color_threshold=0)\n",
    "plt.show()"
   ]
  },
  {
   "cell_type": "markdown",
   "metadata": {},
   "source": [
    "> Ici on construit un dendrogramme qui permet d'illustrer les arrangements de groupes générés par un regroupement ascendant hiérarchique."
   ]
  },
  {
   "cell_type": "markdown",
   "metadata": {},
   "source": [
    "## 4 - Matérialisation des groupes"
   ]
  },
  {
   "cell_type": "code",
   "execution_count": 12,
   "metadata": {},
   "outputs": [
    {
     "data": {
      "image/png": "[encoded data removed]",
      "text/plain": [
       "<Figure size 432x288 with 1 Axes>"
      ]
     },
     "metadata": {
      "needs_background": "light"
     },
     "output_type": "display_data"
    }
   ],
   "source": [
    "#matérialisation des 4 classes (hauteur t = 7)\n",
    "plt.title('CAH avec matérialisation des 4 classes')\n",
    "dendrogram(Z,labels=fromage.index,orientation='left',color_threshold=7)\n",
    "plt.show()"
   ]
  },
  {
   "cell_type": "markdown",
   "metadata": {},
   "source": [
    "> Ici on métérialise les quatres groupes de fromages, en spécifiant la hauteur à 7."
   ]
  },
  {
   "cell_type": "code",
   "execution_count": 13,
   "metadata": {},
   "outputs": [
    {
     "name": "stdout",
     "output_type": "stream",
     "text": [
      "[4 4 3 4 2 4 2 2 4 3 4 4 3 2 4 1 1 4 4 3 1 4 4 4 4 4 4 4 1]\n"
     ]
    }
   ],
   "source": [
    "#découpage à la hauteur t = 7 ==> 4 identifiants de groupes obtenus\n",
    "groupes_cah = fcluster(Z,t=7,criterion='distance')\n",
    "print(groupes_cah)"
   ]
  },
  {
   "cell_type": "markdown",
   "metadata": {},
   "source": [
    "### Interprétation du graphique :\n",
    "On peut constater qu'à la hauteur t = 7, nous avons 4 familles de fromages qui se déssinent :\n",
    "- Groupe de couleur orange : Constitué de fromages frais\n",
    "- Groupe de couleur vert   : Constitué de fromages à pâte molle\n",
    "- Groupe de couleur rouge  : Constitué de fromages consistant\n",
    "- Groupe de couleur violet : Constitué de plusieurs types de fromages\n",
    "\n",
    "<strong>Remarques :</strong> \n",
    "- IL serait intérressant de pousser l'analyse sur les fromages du groupe violet, afin de segmenter encore plus ces différents types de fromages\n",
    "- Il serait opportun aussi, de comparer si ces 4 groupes de fromages représentent les différents clusters (n_clusters=4) trouvés précedemment dans l'algorithme K-Means\n",
    "\n",
    "<strong>Conclusion :</strong> \n",
    "- Le bon nombre de cluster sur le jeux de données est donc de quatre."
   ]
  },
  {
   "cell_type": "code",
   "execution_count": null,
   "metadata": {},
   "outputs": [],
   "source": []
  },
  {
   "cell_type": "code",
   "execution_count": null,
   "metadata": {},
   "outputs": [],
   "source": []
  }
 ],
 "metadata": {
  "kernelspec": {
   "display_name": "Python 3",
   "language": "python",
   "name": "python3"
  },
  "language_info": {
   "codemirror_mode": {
    "name": "ipython",
    "version": 3
   },
   "file_extension": ".py",
   "mimetype": "text/x-python",
   "name": "python",
   "nbconvert_exporter": "python",
   "pygments_lexer": "ipython3",
   "version": "3.8.5"
  }
 },
 "nbformat": 4,
 "nbformat_minor": 5
}
